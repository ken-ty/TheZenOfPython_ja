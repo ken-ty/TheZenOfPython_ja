{
 "cells": [
  {
   "cell_type": "markdown",
   "metadata": {},
   "source": [
    "# 本文"
   ]
  },
  {
   "cell_type": "code",
   "execution_count": 1,
   "metadata": {},
   "outputs": [
    {
     "name": "stdout",
     "output_type": "stream",
     "text": [
      "The Zen of Python, by Tim Peters\n",
      "\n",
      "Beautiful is better than ugly.\n",
      "Explicit is better than implicit.\n",
      "Simple is better than complex.\n",
      "Complex is better than complicated.\n",
      "Flat is better than nested.\n",
      "Sparse is better than dense.\n",
      "Readability counts.\n",
      "Special cases aren't special enough to break the rules.\n",
      "Although practicality beats purity.\n",
      "Errors should never pass silently.\n",
      "Unless explicitly silenced.\n",
      "In the face of ambiguity, refuse the temptation to guess.\n",
      "There should be one-- and preferably only one --obvious way to do it.\n",
      "Although that way may not be obvious at first unless you're Dutch.\n",
      "Now is better than never.\n",
      "Although never is often better than *right* now.\n",
      "If the implementation is hard to explain, it's a bad idea.\n",
      "If the implementation is easy to explain, it may be a good idea.\n",
      "Namespaces are one honking great idea -- let's do more of those!\n"
     ]
    }
   ],
   "source": [
    "import this"
   ]
  },
  {
   "cell_type": "markdown",
   "metadata": {},
   "source": [
    "# 和訳"
   ]
  },
  {
   "cell_type": "markdown",
   "metadata": {},
   "source": [
    "The Zen of Python, by Tim Peters  \n",
    "Pythonの禅、ティム・ピーター著  \n",
    "\n",
    "Beautiful is better than ugly.  \n",
    "醜いより美しいほうが良い。  \n",
    "Explicit is better than implicit.  \n",
    "暗黙より明示したほうが良い。  \n",
    "Simple is better than complex.  \n",
    "(ネガティブな意味でない）複雑より単純なほうが良い。  \n",
    "Complex is better than complicated.  \n",
    "（ややこしい）複雑より(ネガティブな意味でない）複雑のほうが良い。  \n",
    "Flat is better than nested.  \n",
    "ネストよりフラットのほうが良い。  \n",
    "Sparse is better than dense.  \n",
    "密より疎なほうが良い。  \n",
    "Readability counts.  \n",
    "読みやすさは大切です。  \n",
    "Special cases aren't special enough to break the rules.  \n",
    "特別な場合は、ルールを破るほどの特別な場合ではない。  \n",
    "Although practicality beats purity.  \n",
    "実用性は純粋さを上回るが。  \n",
    "Errors should never pass silently.  \n",
    "エラーは絶対黙って通過させない。  \n",
    "Unless explicitly silenced.  \n",
    "明示的に黙らせない限り。  \n",
    "In the face of ambiguity, refuse the temptation to guess.  \n",
    "曖昧さに出会ったら、推測する誘惑を拒否しなさい。  \n",
    "There should be one-- and preferably only one --obvious way to do it.  \n",
    "それをおこなう明白な方法が（できれば）一つだけあるようにします。  \n",
    "Although that way may not be obvious at first unless you're Dutch.  \n",
    "あなたがオランダ人でないならはじめはなんでそうするのかわからないだろうけど。  \n",
    "Now is better than never.  \n",
    "いつかより今です。  \n",
    "Although never is often better than *right* now.  \n",
    "しばしば今やるよりもやらないほうが良いけど。  \n",
    "If the implementation is hard to explain, it's a bad idea.  \n",
    "もし実装の説明が難しい場合は、悪いアイデア。  \n",
    "If the implementation is easy to explain, it may be a good idea.  \n",
    "もし実装の説明が簡単なら、それはたぶんいいアイデア。  \n",
    "Namespaces are one honking great idea -- let's do more of those!  \n",
    "名前空間は非常に魅力的なアイデアです。それらをもっとやりましょう！  　"
   ]
  }
 ],
 "metadata": {
  "kernelspec": {
   "display_name": "Python 3",
   "language": "python",
   "name": "python3"
  },
  "language_info": {
   "codemirror_mode": {
    "name": "ipython",
    "version": 3
   },
   "file_extension": ".py",
   "mimetype": "text/x-python",
   "name": "python",
   "nbconvert_exporter": "python",
   "pygments_lexer": "ipython3",
   "version": "3.7.3"
  }
 },
 "nbformat": 4,
 "nbformat_minor": 2
}
